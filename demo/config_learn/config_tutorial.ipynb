{
 "cells": [
  {
   "cell_type": "code",
   "execution_count": 1,
   "metadata": {
    "collapsed": true,
    "pycharm": {
     "name": "#%%\n"
    }
   },
   "outputs": [
    {
     "name": "stdout",
     "output_type": "stream",
     "text": [
      "Config (path: learn_read_config.py): {'test_int': 1, 'test_list': [1, 2, 3], 'test_dict': {'key1': 'value1', 'key2': 0.1}}\n"
     ]
    }
   ],
   "source": [
    "from mmengine.config import Config\n",
    "\n",
    "cfg = Config.fromfile('learn_read_config.py')\n",
    "print(cfg)"
   ]
  },
  {
   "cell_type": "code",
   "execution_count": 7,
   "outputs": [
    {
     "name": "stdout",
     "output_type": "stream",
     "text": [
      "{'key1': 'value1', 'key2': 0.1}\n",
      "2\n",
      "[2, 2, 3]\n",
      "{'key1': 'value1', 'key2': 0.3}\n"
     ]
    }
   ],
   "source": [
    "print(cfg.test_dict)\n",
    "cfg.test_int = 2\n",
    "cfg.test_list[0] = 2\n",
    "cfg.test_dict.key2 = 0.3\n",
    "print(cfg.test_int)\n",
    "print(cfg.test_list)\n",
    "print(cfg.test_dict)"
   ],
   "metadata": {
    "collapsed": false,
    "pycharm": {
     "name": "#%%\n"
    }
   }
  },
  {
   "cell_type": "code",
   "execution_count": 8,
   "outputs": [
    {
     "name": "stdout",
     "output_type": "stream",
     "text": [
      "Config (path: resnet50.py): {'optimizer': {'type': 'SGD', 'lr': 0.02, 'momentum': 0.9, 'weight_decay': 0.0001}, 'model': {'type': 'ResNet', 'depth': 50}}\n"
     ]
    }
   ],
   "source": [
    "cfg = Config.fromfile('resnet50.py')\n",
    "print(cfg)"
   ],
   "metadata": {
    "collapsed": false,
    "pycharm": {
     "name": "#%%\n"
    }
   }
  }
 ],
 "metadata": {
  "kernelspec": {
   "display_name": "Python 3",
   "language": "python",
   "name": "python3"
  },
  "language_info": {
   "codemirror_mode": {
    "name": "ipython",
    "version": 2
   },
   "file_extension": ".py",
   "mimetype": "text/x-python",
   "name": "python",
   "nbconvert_exporter": "python",
   "pygments_lexer": "ipython2",
   "version": "2.7.6"
  }
 },
 "nbformat": 4,
 "nbformat_minor": 0
}